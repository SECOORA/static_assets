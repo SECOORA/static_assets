{
 "cells": [
  {
   "cell_type": "markdown",
   "metadata": {},
   "source": [
    "# Spreadsheets on GoogleDocs"
   ]
  },
  {
   "cell_type": "markdown",
   "metadata": {},
   "source": [
    "- [HFRadar](https://docs.google.com/spreadsheets/d/11hWfIr4lrKP-RviEwSio6dZgnm0oUFUII9WChPDzeAw/edit#gid=62536835)\n",
    "- [Stations](https://docs.google.com/spreadsheets/d/1ECXoa43uq9Gr8REZF-7EGlxNa1mkP7-4YturX0nFK7s/edit#gid=0)\n",
    "- [Gliders](https://docs.google.com/spreadsheets/d/13e906UHl6ibF2lx1F_mu_9vBVptVkESM7alw5-FRJdI/edit#gid=65941256)"
   ]
  },
  {
   "cell_type": "markdown",
   "metadata": {},
   "source": [
    "# Instantiate the map centered on SECOORA"
   ]
  },
  {
   "cell_type": "code",
   "execution_count": null,
   "metadata": {
    "collapsed": true
   },
   "outputs": [],
   "source": [
    "import folium\n",
    "\n",
    "lon, lat = -86.276, 30.935 \n",
    "\n",
    "tiles = ('http://services.arcgisonline.com/arcgis/rest/'\n",
    "         'services/Ocean/World_Ocean_Base/MapServer/tile/{z}/{y}/{x}')\n",
    "\n",
    "mapa = folium.Map(location=[lat, lon], tiles=tiles,\n",
    "                  attr='ESRI', zoom_start=5)"
   ]
  },
  {
   "cell_type": "markdown",
   "metadata": {},
   "source": [
    "# Create the GIS database from the spreadsheets"
   ]
  },
  {
   "cell_type": "code",
   "execution_count": null,
   "metadata": {
    "collapsed": false
   },
   "outputs": [],
   "source": [
    "import os\n",
    "\n",
    "fname = 'hfradar/hfradar.geojson'\n",
    "if os.path.isfile(fname):\n",
    "    os.unlink(fname)\n",
    "\n",
    "%pushd hfradar/\n",
    "\n",
    "%run convert.py\n",
    "%popd"
   ]
  },
  {
   "cell_type": "code",
   "execution_count": null,
   "metadata": {
    "collapsed": false
   },
   "outputs": [],
   "source": [
    "fname = 'stations/'\n",
    "if os.path.isfile(fname):\n",
    "    os.unlink(fname)\n",
    "\n",
    "%pushd stations/\n",
    "%run convert.py\n",
    "%popd"
   ]
  },
  {
   "cell_type": "code",
   "execution_count": null,
   "metadata": {
    "collapsed": false
   },
   "outputs": [],
   "source": [
    "fname = 'gliders//'\n",
    "if os.path.isfile(fname):\n",
    "    os.unlink(fname)\n",
    "\n",
    "%pushd stations/\n",
    "%run convert.py\n",
    "%popd"
   ]
  },
  {
   "cell_type": "markdown",
   "metadata": {},
   "source": [
    "# Stations"
   ]
  },
  {
   "cell_type": "code",
   "execution_count": null,
   "metadata": {
    "collapsed": true
   },
   "outputs": [],
   "source": [
    "import json\n",
    "\n",
    "with open('stations/stations.geojson') as f:\n",
    "    stations = json.load(f)\n",
    "\n",
    "\n",
    "icon_size = (14, 14)\n",
    "\n",
    "for feature in stations['features']:\n",
    "    lon, lat = feature['geometry']['coordinates']\n",
    "    icon_url = feature['properties']['icon']\n",
    "    popup = feature['properties']['popupcontent']\n",
    "    \n",
    "    icon = folium.features.CustomIcon(icon_url,\n",
    "                                      icon_size=(14, 14))\n",
    "    \n",
    "    marker = folium.map.Marker([lat, lon], icon=icon,\n",
    "                               popup=folium.map.Popup(popup))\n",
    "    mapa.add_children(marker)"
   ]
  },
  {
   "cell_type": "markdown",
   "metadata": {},
   "source": [
    "# HF-Radar"
   ]
  },
  {
   "cell_type": "code",
   "execution_count": null,
   "metadata": {
    "collapsed": false,
    "scrolled": true
   },
   "outputs": [],
   "source": [
    "with open('hfradar/hfradar.geojson') as f:\n",
    "    hfradar = json.load(f)\n",
    "\n",
    "    \n",
    "style_function = lambda feature: dict(fillColor='#DEFFDE',\n",
    "                                      color='#AECCAE',\n",
    "                                      weight=1,\n",
    "                                      opacity=0.6,\n",
    "                                      dashArray='0')\n",
    "\n",
    "for feature in hfradar['features']:\n",
    "    if feature['geometry']['type'] == 'Point':\n",
    "        lon, lat = feature['geometry']['coordinates']\n",
    "        icon_url = feature['properties']['icon']\n",
    "        popup = feature['properties']['popupcontent']\n",
    "        \n",
    "        icon = folium.features.CustomIcon(icon_url,\n",
    "                                          icon_size=(14, 14))\n",
    "        marker = folium.map.Marker([lat, lon], icon=icon,\n",
    "                                   popup=folium.map.Popup(popup))\n",
    "        mapa.add_children(marker)\n",
    "    elif feature['geometry']['type'] == 'Polygon':\n",
    "        gjson = folium.features.GeoJson(feature,\n",
    "                                        style_function=style_function)\n",
    "        mapa.add_children(gjson)"
   ]
  },
  {
   "cell_type": "markdown",
   "metadata": {},
   "source": [
    "# AUVs"
   ]
  },
  {
   "cell_type": "code",
   "execution_count": null,
   "metadata": {
    "collapsed": true
   },
   "outputs": [],
   "source": [
    "import json\n",
    "\n",
    "with open('gliders/gliders.geojson') as f:\n",
    "    stations = json.load(f)\n",
    "\n",
    "\n",
    "icon_size = (14, 14)\n",
    "\n",
    "for feature in stations['features']:\n",
    "    lon, lat = feature['geometry']['coordinates']\n",
    "    icon_url = feature['properties']['icon']\n",
    "    popup = feature['properties']['popupcontent']\n",
    "    \n",
    "    icon = folium.features.CustomIcon(icon_url,\n",
    "                                      icon_size=(14, 14))\n",
    "    \n",
    "    marker = folium.map.Marker([lat, lon], icon=icon,\n",
    "                               popup=folium.map.Popup(popup))\n",
    "    mapa.add_children(marker)"
   ]
  },
  {
   "cell_type": "code",
   "execution_count": null,
   "metadata": {
    "collapsed": false
   },
   "outputs": [],
   "source": [
    "mapa"
   ]
  }
 ],
 "metadata": {
  "kernelspec": {
   "display_name": "Python 2",
   "language": "python",
   "name": "python2"
  },
  "language_info": {
   "codemirror_mode": {
    "name": "ipython",
    "version": 2
   },
   "file_extension": ".py",
   "mimetype": "text/x-python",
   "name": "python",
   "nbconvert_exporter": "python",
   "pygments_lexer": "ipython2",
   "version": "2.7.11"
  }
 },
 "nbformat": 4,
 "nbformat_minor": 0
}
