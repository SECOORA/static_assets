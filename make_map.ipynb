{
 "cells": [
  {
   "cell_type": "markdown",
   "metadata": {},
   "source": [
    "# Spreadsheets on GoogleDocs"
   ]
  },
  {
   "cell_type": "markdown",
   "metadata": {},
   "source": [
    "- [HFRadar](https://docs.google.com/spreadsheets/d/11hWfIr4lrKP-RviEwSio6dZgnm0oUFUII9WChPDzeAw/edit#gid=62536835)\n",
    "- [Stations](https://docs.google.com/spreadsheets/d/1ECXoa43uq9Gr8REZF-7EGlxNa1mkP7-4YturX0nFK7s/edit#gid=0)\n",
    "- [Gliders](https://docs.google.com/spreadsheets/d/13e906UHl6ibF2lx1F_mu_9vBVptVkESM7alw5-FRJdI/edit#gid=65941256)"
   ]
  },
  {
   "cell_type": "markdown",
   "metadata": {},
   "source": [
    "# Instantiate the map centered on SECOORA"
   ]
  },
  {
   "cell_type": "code",
   "execution_count": null,
   "metadata": {
    "collapsed": false
   },
   "outputs": [],
   "source": [
    "import folium\n",
    "\n",
    "lon, lat = -86.276, 30.935 \n",
    "\n",
    "mapa = folium.Map(location=[lat, lon], zoom_start=5)"
   ]
  },
  {
   "cell_type": "markdown",
   "metadata": {},
   "source": [
    "## Create the GIS database from the spreadsheets\n",
    "\n",
    "Change from `False` to `True` to recreate the files."
   ]
  },
  {
   "cell_type": "code",
   "execution_count": null,
   "metadata": {
    "collapsed": false
   },
   "outputs": [],
   "source": [
    "import os\n",
    "\n",
    "if False:\n",
    "    fname = 'hfradar/hfradar.geojson'\n",
    "    if os.path.isfile(fname):\n",
    "        os.unlink(fname)\n",
    "\n",
    "    %pushd hfradar/\n",
    "\n",
    "    %run convert.py\n",
    "    %popd"
   ]
  },
  {
   "cell_type": "code",
   "execution_count": null,
   "metadata": {
    "collapsed": false
   },
   "outputs": [],
   "source": [
    "if False:\n",
    "    fname = 'stations/stations.geojson'\n",
    "    if os.path.isfile(fname):\n",
    "        os.unlink(fname)\n",
    "\n",
    "    %pushd stations/\n",
    "    %run convert.py\n",
    "    %popd"
   ]
  },
  {
   "cell_type": "code",
   "execution_count": null,
   "metadata": {
    "collapsed": false
   },
   "outputs": [],
   "source": [
    "if False:\n",
    "    fname = 'gliders/gliders.geojson'\n",
    "    if os.path.isfile(fname):\n",
    "        os.unlink(fname)\n",
    "\n",
    "    %pushd gliders/\n",
    "    %run convert.py\n",
    "    %popd"
   ]
  },
  {
   "cell_type": "code",
   "execution_count": null,
   "metadata": {
    "collapsed": false
   },
   "outputs": [],
   "source": [
    "if False:\n",
    "    fname = 'glider_tracks/georef_glider_triangles.geojson'\n",
    "    if os.path.isfile(fname):\n",
    "        os.unlink(fname)\n",
    "\n",
    "    %pushd glider_tracks/\n",
    "    %run convert.py\n",
    "    %popd"
   ]
  },
  {
   "cell_type": "code",
   "execution_count": null,
   "metadata": {
    "collapsed": true
   },
   "outputs": [],
   "source": [
    "if False:\n",
    "    fname = 'models/models.geojson'\n",
    "    if os.path.isfile(fname):\n",
    "        os.unlink(fname)\n",
    "\n",
    "    %pushd models/\n",
    "    %run convert.py\n",
    "    %popd"
   ]
  },
  {
   "cell_type": "markdown",
   "metadata": {},
   "source": [
    "## Plot Stations/Moorings/Fixed Platforms"
   ]
  },
  {
   "cell_type": "code",
   "execution_count": null,
   "metadata": {
    "collapsed": false
   },
   "outputs": [],
   "source": [
    "import json\n",
    "\n",
    "with open('stations/stations.geojson') as f:\n",
    "    stations = json.load(f)\n",
    "\n",
    "\n",
    "icon_size = (14, 14)\n",
    "layer_stations = folium.FeatureGroup()\n",
    "for feature in stations['features']:\n",
    "    lon, lat = feature['geometry']['coordinates']\n",
    "    icon_url = feature['properties']['icon']\n",
    "    popup = feature['properties']['popupcontent']\n",
    "    \n",
    "    icon = folium.features.CustomIcon(icon_url,\n",
    "                                      icon_size=(14, 14))\n",
    "    \n",
    "    marker = folium.map.Marker([lat, lon], icon=icon,\n",
    "                               popup=folium.map.Popup(popup))\n",
    "    layer_stations.add_children(marker)\n",
    "\n",
    "layer_stations.layer_name = 'Stations'\n",
    "mapa.add_children(layer_stations)"
   ]
  },
  {
   "cell_type": "markdown",
   "metadata": {},
   "source": [
    "## Plot HF-Radar stations and range"
   ]
  },
  {
   "cell_type": "code",
   "execution_count": null,
   "metadata": {
    "collapsed": true
   },
   "outputs": [],
   "source": [
    "with open('hfradar/hfradar.geojson') as f:\n",
    "    hfradar = json.load(f)\n",
    "\n",
    "    \n",
    "style_function = lambda feature: dict(fillColor='#DEFFDE',\n",
    "                                      color='#AECCAE',\n",
    "                                      weight=1,\n",
    "                                      opacity=0.6)\n",
    "\n",
    "layer_hfradar = folium.FeatureGroup()\n",
    "for feature in hfradar['features']:\n",
    "    if feature['geometry']['type'] == 'Point':\n",
    "        lon, lat = feature['geometry']['coordinates']\n",
    "        icon_url = feature['properties']['icon']\n",
    "        popup = feature['properties']['popupcontent']\n",
    "        \n",
    "        icon = folium.features.CustomIcon(icon_url,\n",
    "                                          icon_size=(14, 14))\n",
    "        marker = folium.map.Marker([lat, lon], icon=icon,\n",
    "                                   popup=folium.map.Popup(popup))\n",
    "        layer_hfradar.add_children(marker)\n",
    "    elif feature['geometry']['type'] == 'Polygon':\n",
    "        gj = folium.features.GeoJson(feature,\n",
    "                                     style_function=style_function)\n",
    "        layer_hfradar.add_children(gj)\n",
    "\n",
    "layer_hfradar.layer_name = 'HFRadar'\n",
    "mapa.add_children(layer_hfradar)"
   ]
  },
  {
   "cell_type": "markdown",
   "metadata": {},
   "source": [
    "## Plot AUVs"
   ]
  },
  {
   "cell_type": "code",
   "execution_count": null,
   "metadata": {
    "collapsed": false
   },
   "outputs": [],
   "source": [
    "import json\n",
    "\n",
    "with open('gliders/gliders.geojson') as f:\n",
    "    gliders = json.load(f)\n",
    "\n",
    "\n",
    "icon_size = (14, 14)\n",
    "layer_gliders = folium.FeatureGroup()\n",
    "for feature in gliders['features']:\n",
    "    lon, lat = feature['geometry']['coordinates']\n",
    "    icon_url = feature['properties']['icon']\n",
    "    popup = feature['properties']['popupcontent']\n",
    "    \n",
    "    icon = folium.features.CustomIcon(icon_url,\n",
    "                                      icon_size=(14, 14))\n",
    "    \n",
    "    marker = folium.map.Marker([lat, lon], icon=icon,\n",
    "                               popup=folium.map.Popup(popup))\n",
    "    layer_gliders.add_children(marker)\n",
    "\n",
    "layer_gliders.layer_name = 'AUVs'\n",
    "mapa.add_children(layer_gliders)"
   ]
  },
  {
   "cell_type": "markdown",
   "metadata": {},
   "source": [
    "## Plot Glider Tracks"
   ]
  },
  {
   "cell_type": "code",
   "execution_count": null,
   "metadata": {
    "collapsed": false
   },
   "outputs": [],
   "source": [
    "with open('glider_tracks/georef_glider_triangles.geojson') as f:\n",
    "    tracks = json.load(f)\n",
    "\n",
    "style_function = lambda feature: dict(fillColor='#D8D8D8',\n",
    "                                      weight=2,\n",
    "                                      opacity=0.6)\n",
    "\n",
    "layer_tracks = folium.FeatureGroup()\n",
    "for feature in tracks['features']:\n",
    "    gj = folium.features.GeoJson(feature,\n",
    "                                 style_function=style_function)\n",
    "    layer_tracks.add_children(gj)\n",
    "\n",
    "layer_tracks.layer_name = 'Glider Tracks'\n",
    "mapa.add_children(layer_tracks)"
   ]
  },
  {
   "cell_type": "markdown",
   "metadata": {},
   "source": [
    "# Plot Numerical Models"
   ]
  },
  {
   "cell_type": "code",
   "execution_count": null,
   "metadata": {
    "collapsed": false
   },
   "outputs": [],
   "source": [
    "with open('models/models.geojson') as f:\n",
    "    models = json.load(f)\n",
    "\n",
    "style_function = lambda feature: dict(fillColor='#555555',\n",
    "                                      color='#555555',\n",
    "                                      weight=1,\n",
    "                                      opacity=0.5)\n",
    "\n",
    "layer_models = folium.FeatureGroup()\n",
    "for feature in models['features']:\n",
    "    gj = folium.features.GeoJson(feature,\n",
    "                                 style_function=style_function)\n",
    "    layer_models.add_children(gj)\n",
    "\n",
    "layer_models.layer_name = 'Models'\n",
    "mapa.add_children(layer_models)"
   ]
  },
  {
   "cell_type": "code",
   "execution_count": null,
   "metadata": {
    "collapsed": false
   },
   "outputs": [],
   "source": [
    "mapa.add_children(folium.LayerControl())\n",
    "\n",
    "mapa"
   ]
  }
 ],
 "metadata": {
  "kernelspec": {
   "display_name": "Python 2",
   "language": "python",
   "name": "python2"
  },
  "language_info": {
   "codemirror_mode": {
    "name": "ipython",
    "version": 2
   },
   "file_extension": ".py",
   "mimetype": "text/x-python",
   "name": "python",
   "nbconvert_exporter": "python",
   "pygments_lexer": "ipython2",
   "version": "2.7.10"
  }
 },
 "nbformat": 4,
 "nbformat_minor": 0
}
